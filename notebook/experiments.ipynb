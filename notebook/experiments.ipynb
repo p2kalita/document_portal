{
 "cells": [
  {
   "cell_type": "code",
   "execution_count": 1,
   "id": "4b92c932",
   "metadata": {},
   "outputs": [
    {
     "name": "stdout",
     "output_type": "stream",
     "text": [
      "all good\n"
     ]
    }
   ],
   "source": [
    "print('all good')"
   ]
  },
  {
   "cell_type": "code",
   "execution_count": 2,
   "id": "8b0a74a4",
   "metadata": {},
   "outputs": [],
   "source": [
    "from langchain_groq import ChatGroq\n"
   ]
  },
  {
   "cell_type": "code",
   "execution_count": 18,
   "id": "1acfecde",
   "metadata": {},
   "outputs": [
    {
     "data": {
      "text/plain": [
       "True"
      ]
     },
     "execution_count": 18,
     "metadata": {},
     "output_type": "execute_result"
    }
   ],
   "source": [
    "from dotenv import load_dotenv\n",
    "load_dotenv()"
   ]
  },
  {
   "cell_type": "code",
   "execution_count": 7,
   "id": "d04e65da",
   "metadata": {},
   "outputs": [],
   "source": [
    "model = ChatGroq(model=\"qwen/qwen3-32b\")"
   ]
  },
  {
   "cell_type": "code",
   "execution_count": 8,
   "id": "a897c699",
   "metadata": {},
   "outputs": [
    {
     "data": {
      "text/plain": [
       "'<think>\\nOkay, so I need to figure out the capital of France. Let me start by recalling what I know. France is a country in Europe, right? I remember that the Eiffel Tower is in Paris, and I think Paris is a major city there. But wait, could there be another city that\\'s the capital? Maybe Lyon or Marseille? No, I think those are other cities. I\\'ve heard people refer to Paris as the capital, but I should double-check.\\n\\nWait, in school, we learned capitals of countries. France\\'s capital is Paris, isn\\'t it? I also recall that Paris is known as the \"City of Light\" and is a cultural hub. But maybe I\\'m confusing it with another city. Let me think of other European capitals. For example, Germany\\'s capital is Berlin, Spain\\'s is Madrid, Italy\\'s is Rome. So France\\'s capital being Paris fits with that pattern. \\n\\nI should also consider if there\\'s any possibility that the capital might have changed. I don\\'t think so, but maybe after some political event? No, Paris has been the capital for a long time. I think even during the French Revolution, the capital remained Paris. So unless there\\'s some recent change I\\'m not aware of, which I don\\'t think there is, Paris is still the capital.\\n\\nAdditionally, if I think of international organizations, like the headquarters of UNESCO, which is in Paris. That further confirms that Paris is the capital. Also, the French government\\'s main institutions are located there, like the government buildings and the president\\'s residence. So yes, all signs point to Paris being the capital of France. I don\\'t see any conflicting information here. Therefore, the answer should be Paris.\\n</think>\\n\\nThe capital of France is **Paris**. \\n\\nParis is not only the political and administrative center of the country but also a major cultural and historical hub, home to landmarks such as the Eiffel Tower, the Louvre Museum, and Notre-Dame Cathedral. It has been the capital of France since the 13th century and remains a key global city. \\n\\n**Answer:** Paris.'"
      ]
     },
     "execution_count": 8,
     "metadata": {},
     "output_type": "execute_result"
    }
   ],
   "source": [
    "model.invoke(\"What is the capital of France?\").content"
   ]
  },
  {
   "cell_type": "code",
   "execution_count": 9,
   "id": "3f760757",
   "metadata": {},
   "outputs": [],
   "source": [
    "from langchain_google_genai import GoogleGenerativeAIEmbeddings"
   ]
  },
  {
   "cell_type": "code",
   "execution_count": 19,
   "id": "230249f6",
   "metadata": {},
   "outputs": [],
   "source": [
    "embedding_model=GoogleGenerativeAIEmbeddings(model=\"models/embedding-001\")"
   ]
  },
  {
   "cell_type": "code",
   "execution_count": null,
   "id": "3f1c3787",
   "metadata": {},
   "outputs": [],
   "source": []
  }
 ],
 "metadata": {
  "kernelspec": {
   "display_name": "Python 3",
   "language": "python",
   "name": "python3"
  },
  "language_info": {
   "codemirror_mode": {
    "name": "ipython",
    "version": 3
   },
   "file_extension": ".py",
   "mimetype": "text/x-python",
   "name": "python",
   "nbconvert_exporter": "python",
   "pygments_lexer": "ipython3",
   "version": "3.10.0"
  }
 },
 "nbformat": 4,
 "nbformat_minor": 5
}
