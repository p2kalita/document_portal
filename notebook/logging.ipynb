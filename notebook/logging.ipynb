{
 "cells": [
  {
   "cell_type": "code",
   "execution_count": 1,
   "id": "de991ae6",
   "metadata": {},
   "outputs": [
    {
     "name": "stdout",
     "output_type": "stream",
     "text": [
      "all Ok\n"
     ]
    }
   ],
   "source": [
    "print(\"all Ok\")"
   ]
  },
  {
   "cell_type": "code",
   "execution_count": 2,
   "id": "747b58a1",
   "metadata": {},
   "outputs": [],
   "source": [
    "import logging\n",
    "import os\n",
    "from datetime import datetime\n"
   ]
  },
  {
   "cell_type": "code",
   "execution_count": 5,
   "id": "26aca997",
   "metadata": {},
   "outputs": [],
   "source": [
    "logs_dir=os.path.join(os.getcwd(), \"logs\")"
   ]
  },
  {
   "cell_type": "code",
   "execution_count": 6,
   "id": "dfe1b077",
   "metadata": {},
   "outputs": [],
   "source": [
    "os.makedirs(logs_dir, exist_ok=True)"
   ]
  },
  {
   "cell_type": "code",
   "execution_count": 7,
   "id": "41687f53",
   "metadata": {},
   "outputs": [],
   "source": [
    "LOG_FILE=f\"{datetime.now().strftime('%Y-%m-%d_%H-%M-%S')}.log\""
   ]
  },
  {
   "cell_type": "code",
   "execution_count": null,
   "id": "1a3e4240",
   "metadata": {},
   "outputs": [
    {
     "data": {
      "text/plain": [
       "'2025-07-26_14-43-20.log'"
      ]
     },
     "execution_count": 8,
     "metadata": {},
     "output_type": "execute_result"
    }
   ],
   "source": [
    "# This is a log file\n",
    "LOG_FILE"
   ]
  },
  {
   "cell_type": "code",
   "execution_count": null,
   "id": "9a2e19c1",
   "metadata": {},
   "outputs": [],
   "source": [
    "# today\n",
    "with today's data log file will be created\n",
    "    \n",
    "# tomorrow\n",
    "with tommoro's date log file will be created"
   ]
  },
  {
   "cell_type": "code",
   "execution_count": 11,
   "id": "f49c765a",
   "metadata": {},
   "outputs": [],
   "source": [
    "LOG_FILE_PATH = os.path.join(logs_dir, LOG_FILE)"
   ]
  },
  {
   "cell_type": "code",
   "execution_count": 12,
   "id": "9a972386",
   "metadata": {},
   "outputs": [
    {
     "data": {
      "text/plain": [
       "'c:\\\\Users\\\\ParthaPratimKalita\\\\document_portal\\\\notebook\\\\logs\\\\2025-07-26_14-43-20.log'"
      ]
     },
     "execution_count": 12,
     "metadata": {},
     "output_type": "execute_result"
    }
   ],
   "source": [
    "LOG_FILE_PATH"
   ]
  },
  {
   "cell_type": "code",
   "execution_count": 14,
   "id": "66f06731",
   "metadata": {},
   "outputs": [],
   "source": [
    "logging.basicConfig(\n",
    "    filename=LOG_FILE,\n",
    "    level=logging.INFO,\n",
    "    format=\"[%(asctime)s ] %(levelname)s %(name)s (line:%(lineno)d) - %(message)s\",\n",
    ")"
   ]
  },
  {
   "cell_type": "code",
   "execution_count": null,
   "id": "7ae336fa",
   "metadata": {},
   "outputs": [],
   "source": [
    "logger = logging.getLogger()"
   ]
  }
 ],
 "metadata": {
  "kernelspec": {
   "display_name": "Python 3",
   "language": "python",
   "name": "python3"
  },
  "language_info": {
   "codemirror_mode": {
    "name": "ipython",
    "version": 3
   },
   "file_extension": ".py",
   "mimetype": "text/x-python",
   "name": "python",
   "nbconvert_exporter": "python",
   "pygments_lexer": "ipython3",
   "version": "3.10.0"
  }
 },
 "nbformat": 4,
 "nbformat_minor": 5
}
